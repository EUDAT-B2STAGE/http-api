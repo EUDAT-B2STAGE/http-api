{
 "cells": [
  {
   "cell_type": "markdown",
   "metadata": {
    "collapsed": true,
    "slideshow": {
     "slide_type": "slide"
    }
   },
   "source": [
    "# Python 3 REST API server\n",
    "\n",
    "<img src='http://j.mp/1QUHrEB'>"
   ]
  },
  {
   "cell_type": "markdown",
   "metadata": {
    "slideshow": {
     "slide_type": "subslide"
    }
   },
   "source": [
    "<blockquote class=\"twitter-tweet\" data-lang=\"it\"><p lang=\"en\" dir=\"ltr\">&quot;Today, most software exists, not to solve a problem, but to interface with other software.&quot; -- I. O. Angell\n",
    "\n",
    "<br>\n",
    "<a href=\"https://twitter.com/hashtag/quoteoftheday?src=hash\">#quoteoftheday</a> <a href=\"https://twitter.com/hashtag/truth?src=hash\">#truth</a> <a href=\"https://twitter.com/hashtag/APIs?src=hash\">#APIs</a></p>&mdash; nixCraft (@nixcraft) <a href=\"https://twitter.com/nixcraft/status/700010000215724032\">17th February 2016</a></blockquote>\n",
    "<script async src=\"//platform.twitter.com/widgets.js\" charset=\"utf-8\"></script>"
   ]
  },
  {
   "cell_type": "markdown",
   "metadata": {
    "slideshow": {
     "slide_type": "slide"
    }
   },
   "source": [
    "## Flask\n",
    "\n",
    "<img src='http://flask.pocoo.org/static/logo/flask.png' width=600>"
   ]
  },
  {
   "cell_type": "markdown",
   "metadata": {
    "collapsed": true,
    "slideshow": {
     "slide_type": "subslide"
    }
   },
   "source": [
    "- The most used python web framework along with *Django*\n",
    "- **Microframework**\n",
    "    * Builded as a ligth (and stable) core\n",
    "- Easy to expand\n",
    "    * Good extension APIs\n",
    "    * Plugins are written from the community\n",
    "        - Available for most of the necessary extra tools"
   ]
  },
  {
   "cell_type": "markdown",
   "metadata": {
    "slideshow": {
     "slide_type": "slide"
    }
   },
   "source": [
    "## Flask vs Django: a comparison\n",
    "\n",
    "<img src='http://blog.toptas.me/wp-content/uploads/django.png'>"
   ]
  },
  {
   "cell_type": "markdown",
   "metadata": {
    "collapsed": true,
    "slideshow": {
     "slide_type": "subslide"
    }
   },
   "source": [
    "### Django\n",
    "\n",
    "- Born in 2005\n",
    "- Larger community\n",
    "- 13,820 stars - 607 watchers\n",
    " \n",
    "### Flask\n",
    "\n",
    "- Born in 2010\n",
    "- Newer, active community\n",
    "- 13,489 stars 1,036 watchers"
   ]
  },
  {
   "cell_type": "markdown",
   "metadata": {
    "slideshow": {
     "slide_type": "subslide"
    }
   },
   "source": [
    "### Philosophy\n",
    "\n",
    "- Flask provides the base functionalities\n",
    "    * few code, few bugs\n",
    "    * most of the decisions are up to the developer\n",
    "    * harder to startup, but more flexible and easier to maintain\n",
    "\n",
    "- Django tries to provide more extra funcionalities bundled\n",
    "    * more options, but less flexible\n",
    "    * easier to startup, difficult to really control any part of the server"
   ]
  },
  {
   "cell_type": "markdown",
   "metadata": {
    "collapsed": true,
    "slideshow": {
     "slide_type": "subslide"
    }
   },
   "source": [
    "### Applications\n",
    "\n",
    "- Django separates a project into individual applications\n",
    "- Flask expect a project to be a single \"application\" with several views or models\n"
   ]
  },
  {
   "cell_type": "markdown",
   "metadata": {
    "collapsed": true,
    "slideshow": {
     "slide_type": "subslide"
    }
   },
   "source": [
    "### Performances\n",
    "\n",
    "- Flask serves JSON responses slightly faster than Django.\n",
    "    - Flask may also be served with other (faster) WSGI and/or web servers (nginx)\n",
    "    - They are both easy to use, more than fast\n",
    "    "
   ]
  },
  {
   "cell_type": "markdown",
   "metadata": {
    "collapsed": true,
    "slideshow": {
     "slide_type": "slide"
    }
   },
   "source": [
    "## Flask **plugins**"
   ]
  },
  {
   "cell_type": "markdown",
   "metadata": {
    "collapsed": true,
    "slideshow": {
     "slide_type": "subslide"
    }
   },
   "source": [
    "### There are many you MUST use...\n",
    "\n",
    "- SQLalchemy\n",
    "    * DB connection (mysql/postgres/sqllite)\n",
    "- Cors\n",
    "- Security\n",
    "    * authentication: login, register, forgot password\n",
    "- Admin\n",
    "    * phpmyadmin like for users and administration\n",
    "- Mail\n",
    "- Restful\n",
    "    * map endpoints to Python classes"
   ]
  },
  {
   "cell_type": "markdown",
   "metadata": {
    "collapsed": true,
    "slideshow": {
     "slide_type": "subslide"
    }
   },
   "source": [
    "## Documenting your API: *Swagger*\n",
    "\n",
    "http://swagger.io/"
   ]
  },
  {
   "cell_type": "markdown",
   "metadata": {
    "slideshow": {
     "slide_type": "subslide"
    }
   },
   "source": [
    "\n",
    "What?\n",
    "> Swagger is a simple yet powerful representation of your RESTful API. \n",
    "\n",
    "Where?\n",
    "> Developers are supporting Swagger in almost every modern programming language and deployment environment\n",
    "\n",
    "For?\n",
    "> With a Swagger-enabled API, you get interactive documentation, client SDK generation and discoverability\n",
    "\n"
   ]
  },
  {
   "cell_type": "markdown",
   "metadata": {
    "collapsed": true,
    "slideshow": {
     "slide_type": "subslide"
    }
   },
   "source": [
    "Example of what you can do with Swagger:\n",
    "\n",
    "http://petstore.swagger.io/"
   ]
  },
  {
   "cell_type": "markdown",
   "metadata": {
    "slideshow": {
     "slide_type": "subslide"
    }
   },
   "source": [
    "## Flask and swagger\n",
    "\n",
    "> inspects the Flask app for endpoints that contain YAML docstrings with Swagger 2.0 Operation objects.\n",
    "\n",
    "- Normal Flask \n",
    "    https://github.com/gangverk/flask-swagger\n",
    "\n",
    "- Flask Restful \n",
    "    https://github.com/rantav/flask-restful-swagger"
   ]
  },
  {
   "cell_type": "markdown",
   "metadata": {
    "collapsed": true,
    "slideshow": {
     "slide_type": "subslide"
    }
   },
   "source": [
    "## Flask Restful"
   ]
  },
  {
   "cell_type": "code",
   "execution_count": null,
   "metadata": {
    "collapsed": false,
    "slideshow": {
     "slide_type": "fragment"
    }
   },
   "outputs": [],
   "source": [
    "# Normal Flask\n",
    "\n",
    "@app.route('/hello', methods=['GET', 'POST'])\n",
    "def hello():\n",
    "    if request.method == 'POST':\n",
    "        id = db.save(request.data)\n",
    "        return id\n",
    "    return {'hello': 'world'}\n"
   ]
  },
  {
   "cell_type": "code",
   "execution_count": null,
   "metadata": {
    "collapsed": false,
    "slideshow": {
     "slide_type": "fragment"
    }
   },
   "outputs": [],
   "source": [
    "# Restful Flask class\n",
    "\n",
    "class HelloWorld(Resource):\n",
    "    def get(self):\n",
    "        return {'hello': 'world'}\n",
    "    def post(self):\n",
    "        id = db.save(request.data)\n",
    "        return id\n",
    "    \n",
    "api.add_resource(HelloWorld, '/hello')"
   ]
  },
  {
   "cell_type": "markdown",
   "metadata": {
    "collapsed": true,
    "slideshow": {
     "slide_type": "subslide"
    }
   },
   "source": [
    "## Step up:  Flask as a base for quick REST API"
   ]
  },
  {
   "cell_type": "markdown",
   "metadata": {
    "collapsed": false,
    "slideshow": {
     "slide_type": "fragment"
    }
   },
   "source": [
    "What if we had the minimal list of plugins already mixed and configurable?"
   ]
  },
  {
   "cell_type": "markdown",
   "metadata": {
    "collapsed": false,
    "slideshow": {
     "slide_type": "fragment"
    }
   },
   "source": [
    "- https://github.com/EUDAT-B2STAGE/http-api-base\n",
    "    * Forked from https://github.com/pdonorio/rest-mock"
   ]
  },
  {
   "cell_type": "markdown",
   "metadata": {
    "collapsed": true,
    "slideshow": {
     "slide_type": "slide"
    }
   },
   "source": [
    "## In production"
   ]
  },
  {
   "cell_type": "markdown",
   "metadata": {
    "slideshow": {
     "slide_type": "subslide"
    }
   },
   "source": [
    "### Compatibility\n",
    "\n",
    "- Python 3 code should be the base\n",
    "- Use logging \n",
    "    * avoid prints, which are 50% of the compatibility problem\n",
    "    "
   ]
  },
  {
   "cell_type": "markdown",
   "metadata": {
    "collapsed": true,
    "slideshow": {
     "slide_type": "subslide"
    }
   },
   "source": [
    "- Workaround functions for some problems\n",
    "\n",
    "```python\n",
    "from jinja2._compat import iteritems\n",
    "\n",
    "mydict = {\n",
    "    'this': 'is a',\n",
    "    'dictionary': 42\n",
    "}\n",
    "\n",
    "for key, value in iteritems(mydict):\n",
    "    print(key, value)\n",
    "\n",
    "```\n",
    "    "
   ]
  },
  {
   "cell_type": "markdown",
   "metadata": {
    "slideshow": {
     "slide_type": "subslide"
    }
   },
   "source": [
    "### WSGI\n",
    "\n",
    "- Flask comes bundled with a development WSGI\n",
    "    - You should not use it in production...\n",
    "- Best practice:\n",
    "    - Other libraries can serve your app\n",
    "        * gunicorn (used by Uber)\n",
    "        * tornado (used by Jupyter)\n",
    "        * gevent\n",
    "    - Mask your app behind a reverse proxy\n",
    "        * nginx\n",
    "        * haproxy\n",
    "        * Apply your certificates for SSL only to your proxy"
   ]
  }
 ],
 "metadata": {
  "celltoolbar": "Slideshow",
  "kernelspec": {
   "display_name": "Python 3",
   "language": "python",
   "name": "python3"
  },
  "language_info": {
   "codemirror_mode": {
    "name": "ipython",
    "version": 3
   },
   "file_extension": ".py",
   "mimetype": "text/x-python",
   "name": "python",
   "nbconvert_exporter": "python",
   "pygments_lexer": "ipython3",
   "version": "3.4.3"
  }
 },
 "nbformat": 4,
 "nbformat_minor": 0
}
