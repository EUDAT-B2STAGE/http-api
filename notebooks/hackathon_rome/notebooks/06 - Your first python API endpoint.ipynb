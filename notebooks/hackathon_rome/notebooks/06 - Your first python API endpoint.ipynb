{
 "cells": [
  {
   "cell_type": "markdown",
   "metadata": {
    "slideshow": {
     "slide_type": "slide"
    }
   },
   "source": [
    "# Let's write the code"
   ]
  },
  {
   "cell_type": "markdown",
   "metadata": {
    "slideshow": {
     "slide_type": "subslide"
    }
   },
   "source": [
    "<img src=\"http://j.mp/1VAmanI\">"
   ]
  },
  {
   "cell_type": "markdown",
   "metadata": {
    "collapsed": true,
    "slideshow": {
     "slide_type": "subslide"
    }
   },
   "source": [
    "We can now launch the stack!\n",
    "\n",
    "- The init phase is needed only once. \n",
    "- As soon as you keep the initialized volume, everything will stay in place with persistence."
   ]
  },
  {
   "cell_type": "markdown",
   "metadata": {
    "collapsed": true,
    "slideshow": {
     "slide_type": "fragment"
    }
   },
   "source": [
    "```bash\n",
    "# Launch\n",
    "scripts/run.sh\n",
    "```"
   ]
  },
  {
   "cell_type": "markdown",
   "metadata": {
    "slideshow": {
     "slide_type": "subslide"
    }
   },
   "source": [
    "To open the bash shell for you flask python server, use the command:"
   ]
  },
  {
   "cell_type": "markdown",
   "metadata": {
    "collapsed": true,
    "slideshow": {
     "slide_type": "-"
    }
   },
   "source": [
    "```bash\n",
    "scripts/run.sh shell_server\n",
    "```"
   ]
  },
  {
   "cell_type": "markdown",
   "metadata": {
    "slideshow": {
     "slide_type": "subslide"
    }
   },
   "source": [
    "To further get another container shell for testing the APIs:"
   ]
  },
  {
   "cell_type": "markdown",
   "metadata": {
    "collapsed": true,
    "slideshow": {
     "slide_type": "-"
    }
   },
   "source": [
    "```bash\n",
    "scripts/run.sh shell_client\n",
    "```"
   ]
  },
  {
   "cell_type": "markdown",
   "metadata": {
    "slideshow": {
     "slide_type": "slide"
    }
   },
   "source": [
    "# Managing your stack"
   ]
  },
  {
   "cell_type": "markdown",
   "metadata": {
    "collapsed": true,
    "slideshow": {
     "slide_type": "subslide"
    }
   },
   "source": [
    "```bash\n",
    "# Stop the whole stack\n",
    "scripts/run.sh stop\n",
    "```\n",
    "\n",
    "- After this command containers are freezed but still restartable\n",
    "- Even if you rebooth the host machine"
   ]
  },
  {
   "cell_type": "markdown",
   "metadata": {
    "collapsed": true,
    "slideshow": {
     "slide_type": "subslide"
    }
   },
   "source": [
    "```bash\n",
    "# Destroy containers (you lose unsaved data)\n",
    "scripts/run.sh remove\n",
    "```"
   ]
  },
  {
   "cell_type": "markdown",
   "metadata": {
    "collapsed": true,
    "slideshow": {
     "slide_type": "subslide"
    }
   },
   "source": [
    "```bash\n",
    "\n",
    "# Start containers by removing existing (stop -> remove -> start)\n",
    "scripts/run.sh\n",
    "\n",
    "# Start containers by only restarting what is down\n",
    "scripts/run.sh graceful\n",
    "```"
   ]
  },
  {
   "cell_type": "markdown",
   "metadata": {
    "slideshow": {
     "slide_type": "subslide"
    }
   },
   "source": [
    "## How to destroy all containers (!)\n",
    "\n",
    "\n",
    "```bash\n",
    "docker rm -f $(docker ps -a -q)\n",
    "```"
   ]
  },
  {
   "cell_type": "markdown",
   "metadata": {
    "slideshow": {
     "slide_type": "subslide"
    }
   },
   "source": [
    "## How to destroy all volumes (!!)\n",
    "\n",
    "\n",
    "```bash\n",
    "docker volume rm $(docker volume ls -q)\n",
    "```"
   ]
  },
  {
   "cell_type": "markdown",
   "metadata": {
    "slideshow": {
     "slide_type": "slide"
    }
   },
   "source": [
    "# Steps to use the `http-api` library"
   ]
  },
  {
   "cell_type": "markdown",
   "metadata": {
    "slideshow": {
     "slide_type": "slide"
    }
   },
   "source": [
    "1) Create a python class from a template"
   ]
  },
  {
   "cell_type": "code",
   "execution_count": null,
   "metadata": {
    "collapsed": true,
    "slideshow": {
     "slide_type": "fragment"
    }
   },
   "outputs": [],
   "source": [
    "%%bash\n",
    "\n",
    "# From the root directory of the github repository\n",
    "\n",
    "cp vanilla/apis/foo.py vanilla/apis/mynewendpoint.py\n",
    "\n",
    "vim vanilla/apis/mynewendpoint.py"
   ]
  },
  {
   "cell_type": "code",
   "execution_count": null,
   "metadata": {
    "collapsed": true,
    "slideshow": {
     "slide_type": "subslide"
    }
   },
   "outputs": [],
   "source": [
    "%%writefile vanilla/apis/mynewendpoint.py\n",
    "\n",
    "from ..base import ExtendedApiResource\n",
    "from .. import decorators as decorate\n",
    "\n",
    "from restapi import get_logger\n",
    "logger = get_logger(__name__)\n",
    "\n",
    "# 1. The class must inherit ExtendedApiResource\n",
    "\n",
    "class SomeRestEndpoint(ExtendedApiResource):\n",
    "    \"\"\" My first python endpoint \"\"\"\n",
    "\n",
    "# 2. Only the REST API methods must be decorated as 'apimethod'\n",
    "# e.g. GET, POST, PUT, DELETE and so on\n",
    "    \n",
    "    @decorate.apimethod\n",
    "    def get(self):\n",
    "        hello = \"Hello world\"\n",
    "        logger.info(hello)\n",
    "        return self.response(hello)\n"
   ]
  },
  {
   "cell_type": "markdown",
   "metadata": {
    "slideshow": {
     "slide_type": "slide"
    }
   },
   "source": [
    "2) Define a JSON init file\n",
    "\n",
    "\n",
    "```bash\n",
    "# example of content\n",
    "cat vanilla/specs/api_init.json\n",
    "\n",
    "{ \"EUDAT http api\": \"eudat.ini\" }\n",
    "```"
   ]
  },
  {
   "cell_type": "markdown",
   "metadata": {
    "slideshow": {
     "slide_type": "slide"
    }
   },
   "source": [
    "3) Configure classes to your desired endpoints urls\n",
    "\n",
    "```bash\n",
    "cat vanilla/specs/eudat.ini\n",
    "\n",
    "{\n",
    "    \"custom.mynewendpoint\": {\n",
    "        \"SomeRestEndpoint\": [\n",
    "            \"helloworld\"\n",
    "        ]\n",
    "    }\n",
    "}\n",
    "\n",
    "```\n",
    "\n",
    "With this configuration your `get` method will be available at the url\n",
    "\n",
    "http://localhost:8080/api/helloworld"
   ]
  },
  {
   "cell_type": "markdown",
   "metadata": {
    "slideshow": {
     "slide_type": "slide"
    }
   },
   "source": [
    "4) Startup the Flask server\n",
    "\n",
    "```bash\n",
    "scripts/run.sh shell_server\n",
    "\n",
    "$ ./boot\n",
    "```"
   ]
  },
  {
   "cell_type": "markdown",
   "metadata": {
    "slideshow": {
     "slide_type": "subslide"
    }
   },
   "source": [
    "### Possible problems experienced so far\n",
    "\n",
    "1) No graphdb connection available, and Flask exits\n",
    "    - neo4j startup may take seconds\n",
    "    - You may check any status with `docker-compose logs SERVICE`\n",
    "    - so you may try `docker-compose logs graphdb`\n",
    "\n",
    "\n",
    "2) No irods connection available, and Flask exits\n",
    "    - irods validate its json configuration files against its website\n",
    "    - you most likely have irods down if you work offline\n"
   ]
  },
  {
   "cell_type": "markdown",
   "metadata": {
    "slideshow": {
     "slide_type": "slide"
    }
   },
   "source": [
    "5) Connect to resources"
   ]
  },
  {
   "cell_type": "markdown",
   "metadata": {
    "slideshow": {
     "slide_type": "slide"
    }
   },
   "source": [
    "# API accounts"
   ]
  },
  {
   "cell_type": "markdown",
   "metadata": {
    "slideshow": {
     "slide_type": "subslide"
    }
   },
   "source": [
    "The base of our Flask API provide a simple accounting.\n",
    "This should be expanded with our Authentication schema."
   ]
  },
  {
   "cell_type": "markdown",
   "metadata": {
    "slideshow": {
     "slide_type": "subslide"
    }
   },
   "source": [
    "You may use a dummy endpoint to verify if your user is logged:\n",
    "\n",
    "```bash\n",
    "\n",
    "$ http GET http://api:5000/api/verifylogged\n",
    "\n",
    "\n",
    "HTTP/1.0 401 UNAUTHORIZED\n",
    "Content-Length: 271\n",
    "Content-Type: text/html; charset=utf-8\n",
    "Date: Tue, 23 Feb 2016 22:59:56 GMT\n",
    "Server: Werkzeug/0.11.4 Python/3.4.3+\n",
    "\n",
    "    <h1>Unauthorized</h1>\n",
    "    <p>The server could not verify that you are authorized to access the URL\n",
    "    requested. You either supplied the wrong credentials (e.g. a bad password),\n",
    "    or your browser doesn't understand how to supply the credentials required.</p>\n",
    "    \n",
    "```"
   ]
  },
  {
   "cell_type": "markdown",
   "metadata": {
    "slideshow": {
     "slide_type": "subslide"
    }
   },
   "source": [
    "At first the backend is connected to a sqllite database located in `/dbs/backend.db` inside the `rest` container."
   ]
  },
  {
   "cell_type": "markdown",
   "metadata": {
    "slideshow": {
     "slide_type": "fragment"
    }
   },
   "source": [
    "Dummy roles already exists after the init phase:\n",
    "- adminer\n",
    "- justauser"
   ]
  },
  {
   "cell_type": "markdown",
   "metadata": {
    "slideshow": {
     "slide_type": "fragment"
    }
   },
   "source": [
    "Only one dummy user is provided as administrator:\n",
    "- user@nomail.org"
   ]
  },
  {
   "cell_type": "markdown",
   "metadata": {
    "slideshow": {
     "slide_type": "subslide"
    }
   },
   "source": [
    "To test the login phase you may user the `/login` endpoint"
   ]
  },
  {
   "cell_type": "markdown",
   "metadata": {
    "slideshow": {
     "slide_type": "fragment"
    }
   },
   "source": [
    "```bash\n",
    "http POST http://api:5000/api/login email=user@nomail.org password=test\n",
    "```"
   ]
  },
  {
   "cell_type": "markdown",
   "metadata": {
    "slideshow": {
     "slide_type": "subslide"
    }
   },
   "source": [
    "Response would be something like:\n",
    "    \n",
    "```bash\n",
    "HTTP/1.0 200 OK\n",
    "Content-Length: 215\n",
    "Content-Type: application/json\n",
    "Date: Tue, 23 Feb 2016 23:00:40 GMT\n",
    "Server: Werkzeug/0.11.4 Python/3.4.3+\n",
    "Set-Cookie: session=.eJwljksKwzAMBe-idRb62Y5ymWLLEu02aVald6-hvM3AMPA-8Mgzricc7_OODR6vCQdM9QyyNhzdhSiL-1yE6hJdNGTJms0RXdoo3FSFkDls9F3MOmGVteTV2W4zXbspVQ8caFlwzFbdOQtV5bTiNpEbp_auEza4rzj_Zwi-P7pBLyg.Ca52GA.gDEtwn3TOMAbYVysR0rQxeKtiTE; HttpOnly; Path=/\n",
    "\n",
    "{\n",
    "    \"meta\": {\n",
    "        \"code\": 200\n",
    "    },\n",
    "    \"response\": {\n",
    "        \"user\": {\n",
    "            \"authentication_token\": \"WyIxIiwiYmEwNzZjMmU0MGE0YmZlMWQ4N2JjNmEzYTZmNzE5NTMiXQ.Ca52GA.SzIk0KjuD7Pb0bhjnDk7caufdXo\",\n",
    "            \"id\": \"1\"\n",
    "        }\n",
    "    }\n",
    "}\n",
    "```"
   ]
  },
  {
   "cell_type": "markdown",
   "metadata": {
    "slideshow": {
     "slide_type": "subslide"
    }
   },
   "source": [
    "Now you can use the token to access an endpoint which has restricted permissions:"
   ]
  },
  {
   "cell_type": "markdown",
   "metadata": {
    "slideshow": {
     "slide_type": "fragment"
    }
   },
   "source": [
    "```bash\n",
    "http GET http://api:5000/api/verifylogged \\\n",
    "    Authentication-token:WyIxIiwiYmEwNzZjMmU0MGE0YmZlMWQ4N2JjNmEzYTZmNzE5NTMiXQ.Ca52GA.SzIk0KjuD7Pb0bhjnDk7caufdXo\n",
    "\n",
    "\n",
    "HTTP/1.0 200 OK\n",
    "Content-Length: 48\n",
    "Content-Type: application/json\n",
    "Date: Tue, 23 Feb 2016 23:01:34 GMT\n",
    "Server: Werkzeug/0.11.4 Python/3.4.3+\n",
    "\n",
    "{\n",
    "    \"data\": null,\n",
    "    \"data_type\": null,\n",
    "    \"elements\": 0\n",
    "}\n",
    "```"
   ]
  },
  {
   "cell_type": "markdown",
   "metadata": {
    "slideshow": {
     "slide_type": "subslide"
    }
   },
   "source": [
    "Finally, we have a last dummy endpoint to verify admin privileges:\n",
    "\n",
    "``` bash\n",
    "http GET http://api:5000/api/verifyadmin\n",
    "```"
   ]
  },
  {
   "cell_type": "markdown",
   "metadata": {
    "slideshow": {
     "slide_type": "slide"
    }
   },
   "source": [
    "# Restricting your endpoint"
   ]
  },
  {
   "cell_type": "markdown",
   "metadata": {
    "slideshow": {
     "slide_type": "subslide"
    }
   },
   "source": [
    "To let only logged user which provide a valid token, access your endpoint,\n",
    "you need the `auth_token_required` decorator:\n",
    "\n",
    "```python\n",
    "from flask.ext.security import auth_token_required\n",
    "\n",
    "class MyEndpoint(ExtendedApiResource):\n",
    "\n",
    "    @decorate.apimethod\n",
    "    @auth_token_required\n",
    "    def get(self):\n",
    "        return self.response(\"Only if logged\")\n",
    "```"
   ]
  },
  {
   "cell_type": "markdown",
   "metadata": {
    "slideshow": {
     "slide_type": "subslide"
    }
   },
   "source": [
    "To specify which roles are needed (one or more), there is another decorator called\n",
    "`roles_required`:\n",
    "\n",
    "```python\n",
    "from flask.ext.security import roles_required, auth_token_required\n",
    "from confs import config\n",
    "\n",
    "class MyEndpoint(ExtendedApiResource):\n",
    "\n",
    "    @decorate.apimethod\n",
    "    @auth_token_required\n",
    "    @roles_required(config.ROLE_ADMIN)\n",
    "    def get(self):\n",
    "        return self.response(\"Only if admin\")\n",
    "```"
   ]
  },
  {
   "cell_type": "markdown",
   "metadata": {
    "slideshow": {
     "slide_type": "slide"
    }
   },
   "source": [
    "# Managing users"
   ]
  },
  {
   "cell_type": "markdown",
   "metadata": {
    "slideshow": {
     "slide_type": "subslide"
    }
   },
   "source": [
    "You can define more roles inside `confs/config.py`."
   ]
  },
  {
   "cell_type": "markdown",
   "metadata": {
    "slideshow": {
     "slide_type": "subslide"
    }
   },
   "source": [
    "To manage users and roles \n",
    "(saved inside the db) \n",
    "by WUI \n",
    "we can use the already available Flask-Admin plugin.\n",
    "\n",
    "The url endpoint (to access via browser) is `/api/manage`.\n",
    "\n",
    "Of course it will require a valid `adminer` role:\n",
    "    \n",
    "http://localhost:8080/api/manage"
   ]
  },
  {
   "cell_type": "markdown",
   "metadata": {
    "slideshow": {
     "slide_type": "slide"
    }
   },
   "source": [
    "<img src=\"http://memeshappen.com/media/created/finally-We-did-it-meme-6891.jpg\">"
   ]
  },
  {
   "cell_type": "code",
   "execution_count": null,
   "metadata": {
    "collapsed": true
   },
   "outputs": [],
   "source": []
  }
 ],
 "metadata": {
  "celltoolbar": "Slideshow",
  "kernelspec": {
   "display_name": "Python 3",
   "language": "python",
   "name": "python3"
  },
  "language_info": {
   "codemirror_mode": {
    "name": "ipython",
    "version": 3
   },
   "file_extension": ".py",
   "mimetype": "text/x-python",
   "name": "python",
   "nbconvert_exporter": "python",
   "pygments_lexer": "ipython3",
   "version": "3.4.3"
  }
 },
 "nbformat": 4,
 "nbformat_minor": 0
}
