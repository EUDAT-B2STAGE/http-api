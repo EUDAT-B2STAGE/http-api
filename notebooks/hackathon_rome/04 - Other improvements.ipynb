{
 "cells": [
  {
   "cell_type": "markdown",
   "metadata": {
    "collapsed": true,
    "slideshow": {
     "slide_type": "slide"
    }
   },
   "source": [
    "# More experimental"
   ]
  },
  {
   "cell_type": "markdown",
   "metadata": {},
   "source": [
    "<img src=\"http://betanews.com/wp-content/uploads/2011/10/handomnitouch.jpg\">"
   ]
  },
  {
   "cell_type": "markdown",
   "metadata": {
    "collapsed": true,
    "slideshow": {
     "slide_type": "slide"
    }
   },
   "source": [
    "## Neo4j Graphdb"
   ]
  },
  {
   "cell_type": "markdown",
   "metadata": {
    "slideshow": {
     "slide_type": "subslide"
    }
   },
   "source": [
    "### Graphdb\n"
   ]
  },
  {
   "cell_type": "markdown",
   "metadata": {
    "slideshow": {
     "slide_type": "fragment"
    }
   },
   "source": [
    "<img src='http://j.mp/1QUYgiO'>"
   ]
  },
  {
   "cell_type": "markdown",
   "metadata": {
    "slideshow": {
     "slide_type": "subslide"
    }
   },
   "source": [
    "- Revamp of an old techonology (before SQL DBMS)\n",
    "- Graphs represents in a natural way most of our data models\n",
    "- Great for elastic metadata referencing and navigations\n",
    "- Maximum performances in linking complicated graph sub-paths"
   ]
  },
  {
   "cell_type": "markdown",
   "metadata": {
    "slideshow": {
     "slide_type": "subslide"
    }
   },
   "source": [
    "### Neo4j\n",
    "\n",
    "<img src='http://info.neo4j.com/rs/773-GON-065/images/neo4j_logo.png' width=400>\n",
    "\n",
    "\n",
    "\n",
    "- graph native engine\n",
    "- *cypher* query language\n",
    "- webshell\n",
    "- official image up-to-date on Docker Hub\n",
    "- commercial for enterprise\n",
    "    - sharding of data and cache "
   ]
  },
  {
   "cell_type": "markdown",
   "metadata": {
    "collapsed": true,
    "slideshow": {
     "slide_type": "slide"
    }
   },
   "source": [
    "## Jupyter notebooks\n",
    "\n",
    "<img src=\"https://avatars3.githubusercontent.com/u/7388996?v=3&s=200\">"
   ]
  },
  {
   "cell_type": "markdown",
   "metadata": {
    "slideshow": {
     "slide_type": "fragment"
    }
   },
   "source": [
    "This is a Jupyter notebook :)"
   ]
  },
  {
   "cell_type": "markdown",
   "metadata": {
    "slideshow": {
     "slide_type": "subslide"
    }
   },
   "source": [
    "### Interactive coding and sharing python"
   ]
  },
  {
   "cell_type": "markdown",
   "metadata": {
    "slideshow": {
     "slide_type": "fragment"
    }
   },
   "source": [
    "* Run the same python code \n",
    "    - With Docker, also on the same enviroment\n",
    "* Add notes and comments\n",
    "    - or make slides ;)\n",
    "* Easy to save and share (e.g. GitHub/nbviewer)"
   ]
  },
  {
   "cell_type": "markdown",
   "metadata": {
    "slideshow": {
     "slide_type": "subslide"
    }
   },
   "source": [
    "This could be useful to document an example of Python API client for any service"
   ]
  }
 ],
 "metadata": {
  "celltoolbar": "Slideshow",
  "kernelspec": {
   "display_name": "Python 3",
   "language": "python",
   "name": "python3"
  },
  "language_info": {
   "codemirror_mode": {
    "name": "ipython",
    "version": 3
   },
   "file_extension": ".py",
   "mimetype": "text/x-python",
   "name": "python",
   "nbconvert_exporter": "python",
   "pygments_lexer": "ipython3",
   "version": "3.4.3"
  }
 },
 "nbformat": 4,
 "nbformat_minor": 0
}
