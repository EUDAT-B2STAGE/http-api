{
 "cells": [
  {
   "cell_type": "markdown",
   "metadata": {
    "collapsed": true,
    "slideshow": {
     "slide_type": "slide"
    }
   },
   "source": [
    "# Python 3 REST API server\n",
    "\n",
    "<img src='http://j.mp/1QUHrEB'>"
   ]
  },
  {
   "cell_type": "markdown",
   "metadata": {
    "slideshow": {
     "slide_type": "slide"
    }
   },
   "source": [
    "## Flask\n",
    "\n",
    "<img src='http://flask.pocoo.org/static/logo/flask.png' width=600>"
   ]
  },
  {
   "cell_type": "markdown",
   "metadata": {
    "collapsed": true,
    "slideshow": {
     "slide_type": "subslide"
    }
   },
   "source": [
    "- The most used python web framework along with *Django*\n",
    "- **Microframework**\n",
    "    * Builded as a ligth (and stable) core\n",
    "- Easy to expand\n",
    "    * Good extension APIs\n",
    "    * Plugins are written from the community\n",
    "        - Available for most of the necessary extra tools"
   ]
  },
  {
   "cell_type": "markdown",
   "metadata": {
    "slideshow": {
     "slide_type": "slide"
    }
   },
   "source": [
    "## Flask vs Django: a comparison\n",
    "\n",
    "<img src='http://blog.toptas.me/wp-content/uploads/django.png'>"
   ]
  },
  {
   "cell_type": "markdown",
   "metadata": {
    "collapsed": true,
    "slideshow": {
     "slide_type": "subslide"
    }
   },
   "source": [
    "### Django\n",
    "\n",
    "- Born in 2005\n",
    "- Larger community\n",
    "- 13,820 stars - 607 watchers\n",
    " \n",
    "### Flask\n",
    "\n",
    "- Born in 2010\n",
    "- Newer, active community\n",
    "- 13,489 stars 1,036 watchers"
   ]
  },
  {
   "cell_type": "markdown",
   "metadata": {
    "slideshow": {
     "slide_type": "subslide"
    }
   },
   "source": [
    "### Philosophy\n",
    "\n",
    "- Flask provides the base functionalities\n",
    "    * few code, few bugs\n",
    "    * most of the decisions are up to the developer\n",
    "    * harder to startup, but more flexible and easier to maintain\n",
    "\n",
    "- Django tries to provide more extra funcionalities bundled\n",
    "    * more options, but less flexible\n",
    "    * easier to startup, difficult to really control any part of the server"
   ]
  },
  {
   "cell_type": "markdown",
   "metadata": {
    "collapsed": true,
    "slideshow": {
     "slide_type": "subslide"
    }
   },
   "source": [
    "### Applications\n",
    "\n",
    "- Django separates a project into individual applications\n",
    "- Flask expect a project to be a single \"application\" with several views or models\n"
   ]
  },
  {
   "cell_type": "markdown",
   "metadata": {
    "collapsed": true,
    "slideshow": {
     "slide_type": "subslide"
    }
   },
   "source": [
    "### Performances\n",
    "\n",
    "- Flask serves JSON responses slightly faster than Django.\n",
    "    - Flask may also be served with other (faster) WSGI and/or web servers (nginx)\n",
    "    - They are both easy to use, more than fast\n",
    "    "
   ]
  },
  {
   "cell_type": "markdown",
   "metadata": {
    "collapsed": true,
    "slideshow": {
     "slide_type": "subslide"
    }
   },
   "source": [
    "## Flask **plugins**"
   ]
  },
  {
   "cell_type": "markdown",
   "metadata": {
    "collapsed": true,
    "slideshow": {
     "slide_type": "subslide"
    }
   },
   "source": [
    "### There are many you MUST use...\n",
    "\n",
    "- SQLalchemy\n",
    "    * DB connection (mysql/postgres/sqllite)\n",
    "- Cors\n",
    "- Security\n",
    "    * authentication: login, register, forgot password\n",
    "- Admin\n",
    "    * phpmyadmin like for users and administration\n",
    "- Mail\n",
    "- Restful\n",
    "    * map endpoints to Python classes"
   ]
  },
  {
   "cell_type": "markdown",
   "metadata": {
    "collapsed": true,
    "slideshow": {
     "slide_type": "subslide"
    }
   },
   "source": [
    "## Flask Restful"
   ]
  },
  {
   "cell_type": "code",
   "execution_count": null,
   "metadata": {
    "collapsed": false,
    "slideshow": {
     "slide_type": "fragment"
    }
   },
   "outputs": [],
   "source": [
    "# Normal Flask\n",
    "\n",
    "@app.route('/hello', methods=['GET', 'POST'])\n",
    "def hello():\n",
    "    if request.method == 'POST':\n",
    "        id = db.save(request.data)\n",
    "        return id\n",
    "    return {'hello': 'world'}\n"
   ]
  },
  {
   "cell_type": "code",
   "execution_count": null,
   "metadata": {
    "collapsed": false,
    "slideshow": {
     "slide_type": "fragment"
    }
   },
   "outputs": [],
   "source": [
    "# Restful Flask class\n",
    "\n",
    "class HelloWorld(Resource):\n",
    "    def get(self):\n",
    "        return {'hello': 'world'}\n",
    "    def post(self):\n",
    "        id = db.save(request.data)\n",
    "        return id\n",
    "    \n",
    "api.add_resource(HelloWorld, '/hello')"
   ]
  },
  {
   "cell_type": "markdown",
   "metadata": {
    "collapsed": true,
    "slideshow": {
     "slide_type": "subslide"
    }
   },
   "source": [
    "## Step up:  Flask as a base for quick REST API"
   ]
  },
  {
   "cell_type": "markdown",
   "metadata": {
    "collapsed": false,
    "slideshow": {
     "slide_type": "fragment"
    }
   },
   "source": [
    "What if we had the minimal list of plugins already mixed and configurable?"
   ]
  },
  {
   "cell_type": "markdown",
   "metadata": {
    "collapsed": false,
    "slideshow": {
     "slide_type": "fragment"
    }
   },
   "source": [
    "- https://github.com/EUDAT-B2STAGE/http-api-base\n",
    "    * Forked from https://github.com/pdonorio/rest-mock"
   ]
  }
 ],
 "metadata": {
  "celltoolbar": "Slideshow",
  "kernelspec": {
   "display_name": "Python 3",
   "language": "python",
   "name": "python3"
  },
  "language_info": {
   "codemirror_mode": {
    "name": "ipython",
    "version": 3
   },
   "file_extension": ".py",
   "mimetype": "text/x-python",
   "name": "python",
   "nbconvert_exporter": "python",
   "pygments_lexer": "ipython3",
   "version": "3.4.3"
  }
 },
 "nbformat": 4,
 "nbformat_minor": 0
}
