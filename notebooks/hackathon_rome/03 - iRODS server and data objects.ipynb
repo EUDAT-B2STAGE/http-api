{
 "cells": [
  {
   "cell_type": "markdown",
   "metadata": {
    "collapsed": true,
    "slideshow": {
     "slide_type": "slide"
    }
   },
   "source": [
    "# Data model"
   ]
  },
  {
   "cell_type": "markdown",
   "metadata": {
    "slideshow": {
     "slide_type": "subslide"
    }
   },
   "source": [
    "- Objects\n",
    "- Persistent identifiers\n",
    "- Collections\n",
    "- Metadata\n",
    "- Digital entity?"
   ]
  },
  {
   "cell_type": "markdown",
   "metadata": {
    "slideshow": {
     "slide_type": "subslide"
    }
   },
   "source": [
    "<img src='images/dmodel.png' width=600>"
   ]
  },
  {
   "cell_type": "markdown",
   "metadata": {
    "slideshow": {
     "slide_type": "slide"
    }
   },
   "source": [
    "## Data System \n",
    "\n",
    "<img src=\"https://docs.irods.org/4.1.7/iRODS-Logo.png\" width=400>"
   ]
  },
  {
   "cell_type": "markdown",
   "metadata": {
    "slideshow": {
     "slide_type": "subslide"
    }
   },
   "source": [
    "* Arrived to version 4 in 2014 Q1\n",
    "* Latest release 4.1.7\n",
    "* Official docker image\n",
    "    - Freeze on 4.0.3\n"
   ]
  },
  {
   "cell_type": "markdown",
   "metadata": {
    "slideshow": {
     "slide_type": "subslide"
    }
   },
   "source": [
    "<img src=\"http://www.twgrid.org/cht/images/stories/twgrid2010Img/d3-5%20irods%20fig%201.png\">"
   ]
  },
  {
   "cell_type": "markdown",
   "metadata": {
    "slideshow": {
     "slide_type": "fragment"
    }
   },
   "source": [
    "### iRODS and Python\n",
    "- There is an official repo\n",
    "    + https://github.com/irods/python-irodsclient\n",
    "    + Certificate [looks unsupported](https://github.com/irods/python-irodsclient/blob/master/irods/access.py) as auth method\n",
    "    + not yet ported to python 3... [and not planned to be!](https://github.com/irods/python-irodsclient/issues/27)\n",
    "        \n",
    "* Another option is to wrap icommands\n",
    "    - Plumbum python package to help out here\n",
    "    - Already [wrote a python class](https://github.com/pdonorio/irods2graph/blob/master/irodsgraph/libs/irodscommands.py) for this"
   ]
  },
  {
   "cell_type": "markdown",
   "metadata": {
    "slideshow": {
     "slide_type": "fragment"
    }
   },
   "source": [
    "* Soon to be: [**pluggable rule engine**](http://j.mp/1QUW9vp)"
   ]
  }
 ],
 "metadata": {
  "celltoolbar": "Slideshow",
  "kernelspec": {
   "display_name": "Python 3",
   "language": "python",
   "name": "python3"
  },
  "language_info": {
   "codemirror_mode": {
    "name": "ipython",
    "version": 3
   },
   "file_extension": ".py",
   "mimetype": "text/x-python",
   "name": "python",
   "nbconvert_exporter": "python",
   "pygments_lexer": "ipython3",
   "version": "3.4.3"
  }
 },
 "nbformat": 4,
 "nbformat_minor": 0
}
