{
 "cells": [
  {
   "cell_type": "markdown",
   "metadata": {
    "slideshow": {
     "slide_type": "slide"
    }
   },
   "source": [
    "# Prepare your machine to develop Python REST APIs"
   ]
  },
  {
   "cell_type": "markdown",
   "metadata": {
    "collapsed": true,
    "slideshow": {
     "slide_type": "subslide"
    }
   },
   "source": [
    "Clone the GitHub repository"
   ]
  },
  {
   "cell_type": "markdown",
   "metadata": {},
   "source": [
    "https://github.com/EUDAT-B2STAGE/http-api"
   ]
  },
  {
   "cell_type": "markdown",
   "metadata": {
    "slideshow": {
     "slide_type": "subslide"
    }
   },
   "source": [
    "Let's check the stack together:\n",
    "\n",
    "[docker-compose.yml](https://github.com/EUDAT-B2STAGE/http-api/blob/master/docker-compose.yml)"
   ]
  },
  {
   "cell_type": "markdown",
   "metadata": {
    "slideshow": {
     "slide_type": "fragment"
    }
   },
   "source": [
    "The whole compose stack is:\n",
    "\n",
    "- **`sql`**: Postgresql DB \n",
    "- **`icat`** iRODS iCAT server\n",
    "- **`graphdb`** Graphdb Neo4j server\n",
    "- **`rest`** Python Flask server"
   ]
  },
  {
   "cell_type": "code",
   "execution_count": null,
   "metadata": {
    "collapsed": true,
    "slideshow": {
     "slide_type": "subslide"
    }
   },
   "outputs": [],
   "source": [
    "%%bash\n",
    "\n",
    "### SETUP YOUR ENVIRONMENT\n",
    "\n",
    "# Clone the GitHub repository\n",
    "git clone https://github.com/EUDAT-B2STAGE/http-api.git\n",
    "\n",
    "# Initialize the docker stack within the volumes\n",
    "cd http-api\n",
    "scripts/run.sh init\n",
    "\n",
    "# ... some time to wait..."
   ]
  },
  {
   "cell_type": "markdown",
   "metadata": {
    "slideshow": {
     "slide_type": "subslide"
    }
   },
   "source": [
    "What the init does is:\n",
    "\n",
    "- Pull submodule for http-api-base repo\n",
    "- Pull the latest version of all the docker images inside the docker-compose stack\n",
    "- Launch postgres for the first time and let irods bind to that configuration\n",
    "- Test B2SAFE mod scripts"
   ]
  },
  {
   "cell_type": "markdown",
   "metadata": {
    "slideshow": {
     "slide_type": "slide"
    }
   },
   "source": [
    "<img src=\"http://www.think.edu.au/images/easyblog_images/research.gif\">"
   ]
  }
 ],
 "metadata": {
  "celltoolbar": "Slideshow",
  "kernelspec": {
   "display_name": "Python 3",
   "language": "python",
   "name": "python3"
  },
  "language_info": {
   "codemirror_mode": {
    "name": "ipython",
    "version": 3
   },
   "file_extension": ".py",
   "mimetype": "text/x-python",
   "name": "python",
   "nbconvert_exporter": "python",
   "pygments_lexer": "ipython3",
   "version": "3.4.3"
  }
 },
 "nbformat": 4,
 "nbformat_minor": 0
}
