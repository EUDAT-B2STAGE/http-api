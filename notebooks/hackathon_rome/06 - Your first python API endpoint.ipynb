{
 "cells": [
  {
   "cell_type": "markdown",
   "metadata": {
    "slideshow": {
     "slide_type": "slide"
    }
   },
   "source": [
    "# Let's write the code"
   ]
  },
  {
   "cell_type": "markdown",
   "metadata": {
    "slideshow": {
     "slide_type": "subslide"
    }
   },
   "source": [
    "<img src=\"http://j.mp/1VAmanI\">"
   ]
  },
  {
   "cell_type": "markdown",
   "metadata": {
    "collapsed": true,
    "slideshow": {
     "slide_type": "subslide"
    }
   },
   "source": [
    "We can now launch the stack!\n",
    "\n",
    "- The init phase is needed only once. \n",
    "- As soon as you keep the initialized volume, everything will stay in place with persistence."
   ]
  },
  {
   "cell_type": "markdown",
   "metadata": {
    "collapsed": true,
    "slideshow": {
     "slide_type": "fragment"
    }
   },
   "source": [
    "```bash\n",
    "# Launch\n",
    "scripts/run.sh\n",
    "```"
   ]
  },
  {
   "cell_type": "markdown",
   "metadata": {
    "slideshow": {
     "slide_type": "subslide"
    }
   },
   "source": [
    "To open the bash shell for you flask python server, use the command:"
   ]
  },
  {
   "cell_type": "markdown",
   "metadata": {
    "collapsed": true,
    "slideshow": {
     "slide_type": "-"
    }
   },
   "source": [
    "```bash\n",
    "scripts/run.sh shell_server\n",
    "```"
   ]
  },
  {
   "cell_type": "markdown",
   "metadata": {
    "slideshow": {
     "slide_type": "subslide"
    }
   },
   "source": [
    "To further get another container shell for testing the APIs:"
   ]
  },
  {
   "cell_type": "markdown",
   "metadata": {
    "collapsed": true,
    "slideshow": {
     "slide_type": "-"
    }
   },
   "source": [
    "```bash\n",
    "scripts/run.sh shell_client\n",
    "```"
   ]
  },
  {
   "cell_type": "markdown",
   "metadata": {
    "slideshow": {
     "slide_type": "slide"
    }
   },
   "source": [
    "# Managing your stack"
   ]
  },
  {
   "cell_type": "markdown",
   "metadata": {
    "collapsed": true,
    "slideshow": {
     "slide_type": "subslide"
    }
   },
   "source": [
    "```bash\n",
    "# Stop the whole stack\n",
    "scripts/run.sh stop\n",
    "```\n",
    "\n",
    "- After this command containers are freezed but still restartable\n",
    "- Even if you rebooth the host machine"
   ]
  },
  {
   "cell_type": "markdown",
   "metadata": {
    "collapsed": true,
    "slideshow": {
     "slide_type": "subslide"
    }
   },
   "source": [
    "```bash\n",
    "# Destroy containers (you lose unsaved data)\n",
    "scripts/run.sh remove\n",
    "```"
   ]
  },
  {
   "cell_type": "markdown",
   "metadata": {
    "collapsed": true,
    "slideshow": {
     "slide_type": "subslide"
    }
   },
   "source": [
    "```bash\n",
    "\n",
    "# Start containers by removing existing (stop -> remove -> start)\n",
    "scripts/run.sh\n",
    "\n",
    "# Start containers by only restarting what is down\n",
    "scripts/run.sh graceful\n",
    "```"
   ]
  },
  {
   "cell_type": "markdown",
   "metadata": {
    "slideshow": {
     "slide_type": "subslide"
    }
   },
   "source": [
    "## How to destroy all containers (!)\n",
    "\n",
    "\n",
    "```bash\n",
    "docker rm -f $(docker ps -a -q)\n",
    "```"
   ]
  },
  {
   "cell_type": "markdown",
   "metadata": {
    "slideshow": {
     "slide_type": "subslide"
    }
   },
   "source": [
    "## How to destroy all volumes (!!)\n",
    "\n",
    "\n",
    "```bash\n",
    "docker volume rm $(docker volume ls -q)\n",
    "```"
   ]
  },
  {
   "cell_type": "markdown",
   "metadata": {
    "slideshow": {
     "slide_type": "slide"
    }
   },
   "source": [
    "# Steps to use the `http-api` library"
   ]
  },
  {
   "cell_type": "markdown",
   "metadata": {
    "slideshow": {
     "slide_type": "slide"
    }
   },
   "source": [
    "1) Create a python class from a template"
   ]
  },
  {
   "cell_type": "code",
   "execution_count": null,
   "metadata": {
    "collapsed": true,
    "slideshow": {
     "slide_type": "fragment"
    }
   },
   "outputs": [],
   "source": [
    "%%bash\n",
    "\n",
    "# From the root directory of the github repository\n",
    "\n",
    "cp vanilla/apis/foo.py vanilla/apis/mynewendpoint.py\n",
    "\n",
    "vim vanilla/apis/mynewendpoint.py"
   ]
  },
  {
   "cell_type": "code",
   "execution_count": null,
   "metadata": {
    "collapsed": true,
    "slideshow": {
     "slide_type": "subslide"
    }
   },
   "outputs": [],
   "source": [
    "%%writefile vanilla/apis/mynewendpoint.py\n",
    "\n",
    "from ..base import ExtendedApiResource\n",
    "from .. import decorators as decorate\n",
    "\n",
    "from restapi import get_logger\n",
    "logger = get_logger(__name__)\n",
    "\n",
    "# 1. The class must inherit ExtendedApiResource\n",
    "\n",
    "class SomeRestEndpoint(ExtendedApiResource):\n",
    "    \"\"\" My first python endpoint \"\"\"\n",
    "\n",
    "# 2. Only the REST API methods must be decorated as 'apimethod'\n",
    "# e.g. GET, POST, PUT, DELETE and so on\n",
    "    \n",
    "    @decorate.apimethod\n",
    "    def get(self):\n",
    "        hello = \"Hello world\"\n",
    "        logger.info(hello)\n",
    "        return self.response(hello)\n"
   ]
  },
  {
   "cell_type": "markdown",
   "metadata": {
    "slideshow": {
     "slide_type": "slide"
    }
   },
   "source": [
    "2) Define a JSON init file\n",
    "\n",
    "\n",
    "```bash\n",
    "# example of content\n",
    "cat vanilla/specs/api_init.json\n",
    "\n",
    "{ \"EUDAT http api\": \"eudat.ini\" }\n",
    "```"
   ]
  },
  {
   "cell_type": "markdown",
   "metadata": {
    "slideshow": {
     "slide_type": "slide"
    }
   },
   "source": [
    "3) Configure classes to your desired endpoints urls\n",
    "\n",
    "```bash\n",
    "cat vanilla/specs/eudat.ini\n",
    "\n",
    "{\n",
    "    \"custom.mynewendpoint\": {\n",
    "        \"SomeRestEndpoint\": [\n",
    "            \"helloworld\"\n",
    "        ]\n",
    "    }\n",
    "}\n",
    "\n",
    "```\n",
    "\n",
    "With this configuration your `get` method will be available at the url\n",
    "\n",
    "http://localhost:8080/api/helloworld"
   ]
  },
  {
   "cell_type": "markdown",
   "metadata": {
    "slideshow": {
     "slide_type": "slide"
    }
   },
   "source": [
    "4) Startup the Flask server\n",
    "\n",
    "```bash\n",
    "scripts/run.sh shell_server\n",
    "\n",
    "$ ./boot\n",
    "```"
   ]
  },
  {
   "cell_type": "markdown",
   "metadata": {
    "slideshow": {
     "slide_type": "subslide"
    }
   },
   "source": [
    "### Possible problems experienced so far\n",
    "\n",
    "1) No graphdb connection available, and Flask exits\n",
    "    - neo4j startup may take seconds\n",
    "    - You may check any status with `docker-compose logs SERVICE`\n",
    "    - so you may try `docker-compose logs graphdb`\n",
    "\n",
    "\n",
    "2) No irods connection available, and Flask exits\n",
    "    - irods validate its json configuration files against its website\n",
    "    - you most likely have irods down if you work offline\n"
   ]
  },
  {
   "cell_type": "markdown",
   "metadata": {
    "slideshow": {
     "slide_type": "slide"
    }
   },
   "source": [
    "5) Connect to resources"
   ]
  },
  {
   "cell_type": "markdown",
   "metadata": {
    "slideshow": {
     "slide_type": "slide"
    }
   },
   "source": [
    "<img src=\"http://memeshappen.com/media/created/finally-We-did-it-meme-6891.jpg\">"
   ]
  },
  {
   "cell_type": "code",
   "execution_count": null,
   "metadata": {
    "collapsed": true
   },
   "outputs": [],
   "source": []
  }
 ],
 "metadata": {
  "celltoolbar": "Slideshow",
  "kernelspec": {
   "display_name": "Python 3",
   "language": "python",
   "name": "python3"
  },
  "language_info": {
   "codemirror_mode": {
    "name": "ipython",
    "version": 3
   },
   "file_extension": ".py",
   "mimetype": "text/x-python",
   "name": "python",
   "nbconvert_exporter": "python",
   "pygments_lexer": "ipython3",
   "version": "3.4.3"
  }
 },
 "nbformat": 4,
 "nbformat_minor": 0
}
