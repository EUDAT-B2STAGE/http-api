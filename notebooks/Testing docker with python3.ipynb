{
 "cells": [
  {
   "cell_type": "markdown",
   "metadata": {},
   "source": [
    "http://docker-py.readthedocs.io/en/latest/api/#containers"
   ]
  },
  {
   "cell_type": "code",
   "execution_count": 1,
   "metadata": {
    "ExecuteTime": {
     "end_time": "2016-05-06T10:15:37.308321",
     "start_time": "2016-05-06T10:15:37.221950"
    },
    "collapsed": true,
    "run_control": {
     "frozen": false,
     "read_only": false
    }
   },
   "outputs": [],
   "source": [
    "from docker import Client"
   ]
  },
  {
   "cell_type": "code",
   "execution_count": 2,
   "metadata": {
    "ExecuteTime": {
     "end_time": "2016-05-06T10:15:46.985579",
     "start_time": "2016-05-06T10:15:46.979640"
    },
    "collapsed": true,
    "run_control": {
     "frozen": false,
     "read_only": false
    }
   },
   "outputs": [],
   "source": [
    "cli = Client(base_url='unix://var/run/docker.sock')"
   ]
  },
  {
   "cell_type": "code",
   "execution_count": 12,
   "metadata": {
    "ExecuteTime": {
     "end_time": "2016-05-06T10:18:43.661440",
     "start_time": "2016-05-06T10:18:43.626927"
    },
    "collapsed": false,
    "run_control": {
     "frozen": false,
     "read_only": false
    }
   },
   "outputs": [
    {
     "name": "stdout",
     "output_type": "stream",
     "text": [
      "[{'Destination': '/data/frontend/felask/static/bower', 'RW': True, 'Source': '/Users/projects/restapi/restfixing/vanilla/libs/bower_components', 'Propagation': 'rprivate', 'Mode': 'rw'}, {'Destination': '/data', 'RW': True, 'Source': '/Users/projects/restapi/restfixing', 'Propagation': 'rprivate', 'Mode': 'rw'}, {'Destination': '/data/frontend/felask/templates/custom', 'RW': True, 'Source': '/Users/projects/restapi/restfixing/vanilla/templates/python', 'Propagation': 'rprivate', 'Mode': 'rw'}, {'Destination': '/data/frontend/felask/static/img/custom', 'RW': True, 'Source': '/Users/projects/restapi/restfixing/vanilla/img', 'Propagation': 'rprivate', 'Mode': 'rw'}, {'Destination': '/data/frontend/config/angular/blueprints', 'RW': True, 'Source': '/Users/projects/restapi/restfixing/vanilla/specs', 'Propagation': 'rprivate', 'Mode': 'rw'}, {'Destination': '/data/frontend/felask/static/app', 'RW': True, 'Source': '/Users/projects/restapi/restfixing/vanilla/jscode', 'Propagation': 'rprivate', 'Mode': 'rw'}, {'Destination': '/data/frontend/felask/static/css', 'RW': True, 'Source': '/Users/projects/restapi/restfixing/vanilla/templates/customcss', 'Propagation': 'rprivate', 'Mode': 'rw'}, {'Destination': '/data/frontend/felask/pypages', 'RW': True, 'Source': '/Users/projects/restapi/restfixing/vanilla/pages', 'Propagation': 'rprivate', 'Mode': 'rw'}, {'RW': True, 'Driver': 'local', 'Source': '/var/lib/docker/volumes/restangulask_apilitedb/_data', 'Mode': 'rw', 'Destination': '/dbs', 'Name': 'restangulask_apilitedb', 'Propagation': 'rprivate'}]\n",
      "[{'Destination': '/code', 'RW': True, 'Source': '/Users/projects/restapi/restfixing/backend', 'Propagation': 'rprivate', 'Mode': 'rw'}, {'Destination': '/code/confs/endpoints', 'RW': True, 'Source': '/Users/projects/restapi/restfixing/vanilla/specs', 'Propagation': 'rprivate', 'Mode': 'rw'}, {'Destination': '/code/restapi/resources/custom', 'RW': True, 'Source': '/Users/projects/restapi/restfixing/vanilla/apis', 'Propagation': 'rprivate', 'Mode': 'rw'}, {'RW': True, 'Driver': 'local', 'Source': '/var/lib/docker/volumes/restangulask_apilitedb/_data', 'Mode': 'rw', 'Destination': '/dbs', 'Name': 'restangulask_apilitedb', 'Propagation': 'rprivate'}, {'Destination': '/code/libs', 'RW': True, 'Source': '/Users/projects/restapi/restfixing/vanilla/libs', 'Propagation': 'rprivate', 'Mode': 'rw'}]\n"
     ]
    }
   ],
   "source": [
    "for container in cli.containers():\n",
    "    id = container['Id']\n",
    "    print(cli.inspect_container(id)['Mounts'])"
   ]
  },
  {
   "cell_type": "code",
   "execution_count": 4,
   "metadata": {
    "ExecuteTime": {
     "end_time": "2016-05-06T10:16:09.578336",
     "start_time": "2016-05-06T10:16:09.572993"
    },
    "collapsed": false,
    "run_control": {
     "frozen": false,
     "read_only": false
    }
   },
   "outputs": [],
   "source": [
    "cli.inspect_container?"
   ]
  }
 ],
 "metadata": {
  "kernelspec": {
   "display_name": "Python 3",
   "language": "python",
   "name": "python3"
  },
  "language_info": {
   "codemirror_mode": {
    "name": "ipython",
    "version": 3
   },
   "file_extension": ".py",
   "mimetype": "text/x-python",
   "name": "python",
   "nbconvert_exporter": "python",
   "pygments_lexer": "ipython3",
   "version": "3.4.3"
  }
 },
 "nbformat": 4,
 "nbformat_minor": 0
}
